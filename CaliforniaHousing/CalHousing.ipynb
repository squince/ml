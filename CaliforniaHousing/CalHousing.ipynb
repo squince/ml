{
 "cells": [
  {
   "cell_type": "markdown",
   "metadata": {},
   "source": [
    "# California Housing"
   ]
  },
  {
   "cell_type": "code",
   "execution_count": 15,
   "metadata": {},
   "outputs": [],
   "source": [
    "import pandas as pd\n",
    "import numpy as np\n",
    "import datetime as dt\n",
    "import matplotlib.pyplot as plt\n",
    "import math\n",
    "import locale as locale\n",
    "from money import Money\n",
    "from sklearn import model_selection as model\n",
    "\n",
    "locale.setlocale( locale.LC_ALL, '' )\n",
    "\n",
    "%matplotlib inline\n",
    "\n",
    "plt.rcParams['figure.figsize'] = (20, 10)\n",
    "FONT_SIZE = 20\n",
    "\n",
    "plt.rc('font', size=FONT_SIZE)          # controls default text sizes\n",
    "plt.rc('axes', titlesize=FONT_SIZE)     # fontsize of the axes title\n",
    "plt.rc('axes', labelsize=FONT_SIZE)    # fontsize of the x and y labels\n",
    "plt.rc('xtick', labelsize=FONT_SIZE)    # fontsize of the tick labels\n",
    "plt.rc('ytick', labelsize=FONT_SIZE)    # fontsize of the tick labels\n",
    "plt.rc('legend', fontsize=FONT_SIZE)    # legend fontsize\n",
    "\n",
    "transparency = 0.75"
   ]
  },
  {
   "cell_type": "code",
   "execution_count": 47,
   "metadata": {},
   "outputs": [
    {
     "data": {
      "text/html": [
       "<div>\n",
       "<style scoped>\n",
       "    .dataframe tbody tr th:only-of-type {\n",
       "        vertical-align: middle;\n",
       "    }\n",
       "\n",
       "    .dataframe tbody tr th {\n",
       "        vertical-align: top;\n",
       "    }\n",
       "\n",
       "    .dataframe thead th {\n",
       "        text-align: right;\n",
       "    }\n",
       "</style>\n",
       "<table border=\"1\" class=\"dataframe\">\n",
       "  <thead>\n",
       "    <tr style=\"text-align: right;\">\n",
       "      <th></th>\n",
       "      <th>longitude</th>\n",
       "      <th>latitude</th>\n",
       "      <th>housingMedianAge</th>\n",
       "      <th>totalRooms</th>\n",
       "      <th>totalBedrooms</th>\n",
       "      <th>population</th>\n",
       "      <th>households</th>\n",
       "      <th>medianIncome</th>\n",
       "      <th>medianHouseValue</th>\n",
       "      <th>id</th>\n",
       "    </tr>\n",
       "  </thead>\n",
       "  <tbody>\n",
       "    <tr>\n",
       "      <th>0</th>\n",
       "      <td>-122.23</td>\n",
       "      <td>37.88</td>\n",
       "      <td>41.0</td>\n",
       "      <td>880.0</td>\n",
       "      <td>129.0</td>\n",
       "      <td>322.0</td>\n",
       "      <td>126.0</td>\n",
       "      <td>8.3252</td>\n",
       "      <td>452600.0</td>\n",
       "      <td>-122192.12</td>\n",
       "    </tr>\n",
       "    <tr>\n",
       "      <th>1</th>\n",
       "      <td>-122.22</td>\n",
       "      <td>37.86</td>\n",
       "      <td>21.0</td>\n",
       "      <td>7099.0</td>\n",
       "      <td>1106.0</td>\n",
       "      <td>2401.0</td>\n",
       "      <td>1138.0</td>\n",
       "      <td>8.3014</td>\n",
       "      <td>358500.0</td>\n",
       "      <td>-122182.14</td>\n",
       "    </tr>\n",
       "    <tr>\n",
       "      <th>2</th>\n",
       "      <td>-122.24</td>\n",
       "      <td>37.85</td>\n",
       "      <td>52.0</td>\n",
       "      <td>1467.0</td>\n",
       "      <td>190.0</td>\n",
       "      <td>496.0</td>\n",
       "      <td>177.0</td>\n",
       "      <td>7.2574</td>\n",
       "      <td>352100.0</td>\n",
       "      <td>-122202.15</td>\n",
       "    </tr>\n",
       "  </tbody>\n",
       "</table>\n",
       "</div>"
      ],
      "text/plain": [
       "   longitude  latitude  housingMedianAge  totalRooms  totalBedrooms  \\\n",
       "0    -122.23     37.88              41.0       880.0          129.0   \n",
       "1    -122.22     37.86              21.0      7099.0         1106.0   \n",
       "2    -122.24     37.85              52.0      1467.0          190.0   \n",
       "\n",
       "   population  households  medianIncome  medianHouseValue         id  \n",
       "0       322.0       126.0        8.3252          452600.0 -122192.12  \n",
       "1      2401.0      1138.0        8.3014          358500.0 -122182.14  \n",
       "2       496.0       177.0        7.2574          352100.0 -122202.15  "
      ]
     },
     "execution_count": 47,
     "metadata": {},
     "output_type": "execute_result"
    }
   ],
   "source": [
    "cal_housing = pd.read_csv('./cal_housing.data', header=None \\\n",
    "            , names=['longitude','latitude','housingMedianAge','totalRooms','totalBedrooms' \\\n",
    "                   , 'population','households','medianIncome','medianHouseValue']\n",
    ")\n",
    "cal_housing['id'] = (cal_housing.longitude * 1000) + (cal_housing.latitude)\n",
    "cal_housing.head(n=3)\n",
    "#cal_housing['id'].value_counts()\n",
    "#cal_housing[cal_housing.id == -122372.20]"
   ]
  },
  {
   "cell_type": "code",
   "execution_count": 29,
   "metadata": {},
   "outputs": [
    {
     "name": "stdout",
     "output_type": "stream",
     "text": [
      "<class 'pandas.core.frame.DataFrame'>\n",
      "RangeIndex: 20640 entries, 0 to 20639\n",
      "Data columns (total 9 columns):\n",
      "longitude           20640 non-null float64\n",
      "latitude            20640 non-null float64\n",
      "housingMedianAge    20640 non-null float64\n",
      "totalRooms          20640 non-null float64\n",
      "totalBedrooms       20640 non-null float64\n",
      "population          20640 non-null float64\n",
      "households          20640 non-null float64\n",
      "medianIncome        20640 non-null float64\n",
      "medianHouseValue    20640 non-null float64\n",
      "dtypes: float64(9)\n",
      "memory usage: 1.4 MB\n"
     ]
    }
   ],
   "source": [
    "cal_housing.info()"
   ]
  },
  {
   "cell_type": "code",
   "execution_count": 11,
   "metadata": {},
   "outputs": [
    {
     "data": {
      "text/html": [
       "<div>\n",
       "<style scoped>\n",
       "    .dataframe tbody tr th:only-of-type {\n",
       "        vertical-align: middle;\n",
       "    }\n",
       "\n",
       "    .dataframe tbody tr th {\n",
       "        vertical-align: top;\n",
       "    }\n",
       "\n",
       "    .dataframe thead th {\n",
       "        text-align: right;\n",
       "    }\n",
       "</style>\n",
       "<table border=\"1\" class=\"dataframe\">\n",
       "  <thead>\n",
       "    <tr style=\"text-align: right;\">\n",
       "      <th></th>\n",
       "      <th>longitude</th>\n",
       "      <th>latitude</th>\n",
       "      <th>housingMedianAge</th>\n",
       "      <th>totalRooms</th>\n",
       "      <th>totalBedrooms</th>\n",
       "      <th>population</th>\n",
       "      <th>households</th>\n",
       "      <th>medianIncome</th>\n",
       "      <th>medianHouseValue</th>\n",
       "    </tr>\n",
       "  </thead>\n",
       "  <tbody>\n",
       "    <tr>\n",
       "      <th>count</th>\n",
       "      <td>20640.000000</td>\n",
       "      <td>20640.000000</td>\n",
       "      <td>20640.000000</td>\n",
       "      <td>20640.000000</td>\n",
       "      <td>20640.000000</td>\n",
       "      <td>20640.000000</td>\n",
       "      <td>20640.000000</td>\n",
       "      <td>20640.000000</td>\n",
       "      <td>20640.000000</td>\n",
       "    </tr>\n",
       "    <tr>\n",
       "      <th>mean</th>\n",
       "      <td>-119.569704</td>\n",
       "      <td>35.631861</td>\n",
       "      <td>28.639486</td>\n",
       "      <td>2635.763081</td>\n",
       "      <td>537.898014</td>\n",
       "      <td>1425.476744</td>\n",
       "      <td>499.539680</td>\n",
       "      <td>3.870671</td>\n",
       "      <td>206855.816909</td>\n",
       "    </tr>\n",
       "    <tr>\n",
       "      <th>std</th>\n",
       "      <td>2.003532</td>\n",
       "      <td>2.135952</td>\n",
       "      <td>12.585558</td>\n",
       "      <td>2181.615252</td>\n",
       "      <td>421.247906</td>\n",
       "      <td>1132.462122</td>\n",
       "      <td>382.329753</td>\n",
       "      <td>1.899822</td>\n",
       "      <td>115395.615874</td>\n",
       "    </tr>\n",
       "    <tr>\n",
       "      <th>min</th>\n",
       "      <td>-124.350000</td>\n",
       "      <td>32.540000</td>\n",
       "      <td>1.000000</td>\n",
       "      <td>2.000000</td>\n",
       "      <td>1.000000</td>\n",
       "      <td>3.000000</td>\n",
       "      <td>1.000000</td>\n",
       "      <td>0.499900</td>\n",
       "      <td>14999.000000</td>\n",
       "    </tr>\n",
       "    <tr>\n",
       "      <th>25%</th>\n",
       "      <td>-121.800000</td>\n",
       "      <td>33.930000</td>\n",
       "      <td>18.000000</td>\n",
       "      <td>1447.750000</td>\n",
       "      <td>295.000000</td>\n",
       "      <td>787.000000</td>\n",
       "      <td>280.000000</td>\n",
       "      <td>2.563400</td>\n",
       "      <td>119600.000000</td>\n",
       "    </tr>\n",
       "    <tr>\n",
       "      <th>50%</th>\n",
       "      <td>-118.490000</td>\n",
       "      <td>34.260000</td>\n",
       "      <td>29.000000</td>\n",
       "      <td>2127.000000</td>\n",
       "      <td>435.000000</td>\n",
       "      <td>1166.000000</td>\n",
       "      <td>409.000000</td>\n",
       "      <td>3.534800</td>\n",
       "      <td>179700.000000</td>\n",
       "    </tr>\n",
       "    <tr>\n",
       "      <th>75%</th>\n",
       "      <td>-118.010000</td>\n",
       "      <td>37.710000</td>\n",
       "      <td>37.000000</td>\n",
       "      <td>3148.000000</td>\n",
       "      <td>647.000000</td>\n",
       "      <td>1725.000000</td>\n",
       "      <td>605.000000</td>\n",
       "      <td>4.743250</td>\n",
       "      <td>264725.000000</td>\n",
       "    </tr>\n",
       "    <tr>\n",
       "      <th>max</th>\n",
       "      <td>-114.310000</td>\n",
       "      <td>41.950000</td>\n",
       "      <td>52.000000</td>\n",
       "      <td>39320.000000</td>\n",
       "      <td>6445.000000</td>\n",
       "      <td>35682.000000</td>\n",
       "      <td>6082.000000</td>\n",
       "      <td>15.000100</td>\n",
       "      <td>500001.000000</td>\n",
       "    </tr>\n",
       "  </tbody>\n",
       "</table>\n",
       "</div>"
      ],
      "text/plain": [
       "          longitude      latitude  housingMedianAge    totalRooms  \\\n",
       "count  20640.000000  20640.000000      20640.000000  20640.000000   \n",
       "mean    -119.569704     35.631861         28.639486   2635.763081   \n",
       "std        2.003532      2.135952         12.585558   2181.615252   \n",
       "min     -124.350000     32.540000          1.000000      2.000000   \n",
       "25%     -121.800000     33.930000         18.000000   1447.750000   \n",
       "50%     -118.490000     34.260000         29.000000   2127.000000   \n",
       "75%     -118.010000     37.710000         37.000000   3148.000000   \n",
       "max     -114.310000     41.950000         52.000000  39320.000000   \n",
       "\n",
       "       totalBedrooms    population    households  medianIncome  \\\n",
       "count   20640.000000  20640.000000  20640.000000  20640.000000   \n",
       "mean      537.898014   1425.476744    499.539680      3.870671   \n",
       "std       421.247906   1132.462122    382.329753      1.899822   \n",
       "min         1.000000      3.000000      1.000000      0.499900   \n",
       "25%       295.000000    787.000000    280.000000      2.563400   \n",
       "50%       435.000000   1166.000000    409.000000      3.534800   \n",
       "75%       647.000000   1725.000000    605.000000      4.743250   \n",
       "max      6445.000000  35682.000000   6082.000000     15.000100   \n",
       "\n",
       "       medianHouseValue  \n",
       "count      20640.000000  \n",
       "mean      206855.816909  \n",
       "std       115395.615874  \n",
       "min        14999.000000  \n",
       "25%       119600.000000  \n",
       "50%       179700.000000  \n",
       "75%       264725.000000  \n",
       "max       500001.000000  "
      ]
     },
     "execution_count": 11,
     "metadata": {},
     "output_type": "execute_result"
    }
   ],
   "source": [
    "cal_housing.describe()"
   ]
  },
  {
   "cell_type": "code",
   "execution_count": 14,
   "metadata": {},
   "outputs": [
    {
     "data": {
      "text/plain": [
       "array([[<matplotlib.axes._subplots.AxesSubplot object at 0x111def6a0>,\n",
       "        <matplotlib.axes._subplots.AxesSubplot object at 0x1175b7ba8>,\n",
       "        <matplotlib.axes._subplots.AxesSubplot object at 0x1175e2128>],\n",
       "       [<matplotlib.axes._subplots.AxesSubplot object at 0x117607198>,\n",
       "        <matplotlib.axes._subplots.AxesSubplot object at 0x11762a128>,\n",
       "        <matplotlib.axes._subplots.AxesSubplot object at 0x117647208>],\n",
       "       [<matplotlib.axes._subplots.AxesSubplot object at 0x11766a208>,\n",
       "        <matplotlib.axes._subplots.AxesSubplot object at 0x11768c198>,\n",
       "        <matplotlib.axes._subplots.AxesSubplot object at 0x1176b0208>]],\n",
       "      dtype=object)"
      ]
     },
     "execution_count": 14,
     "metadata": {},
     "output_type": "execute_result"
    },
    {
     "data": {
      "image/png": "[encoded data removed]",
      "text/plain": [
       "<matplotlib.figure.Figure at 0x110f2d780>"
      ]
     },
     "metadata": {},
     "output_type": "display_data"
    }
   ],
   "source": [
    "cal_housing.hist(bins=50)"
   ]
  },
  {
   "cell_type": "code",
   "execution_count": 17,
   "metadata": {},
   "outputs": [],
   "source": [
    "trainSet, testSet = model.train_test_split(cal_housing, test_size=0.2, random_state=42)"
   ]
  },
  {
   "cell_type": "code",
   "execution_count": 28,
   "metadata": {},
   "outputs": [
    {
     "name": "stdout",
     "output_type": "stream",
     "text": [
      "<class 'pandas.core.frame.DataFrame'>\n",
      "Int64Index: 16512 entries, 14196 to 15795\n",
      "Data columns (total 9 columns):\n",
      "longitude           16512 non-null float64\n",
      "latitude            16512 non-null float64\n",
      "housingMedianAge    16512 non-null float64\n",
      "totalRooms          16512 non-null float64\n",
      "totalBedrooms       16512 non-null float64\n",
      "population          16512 non-null float64\n",
      "households          16512 non-null float64\n",
      "medianIncome        16512 non-null float64\n",
      "medianHouseValue    16512 non-null float64\n",
      "dtypes: float64(9)\n",
      "memory usage: 1.3 MB\n",
      "None\n",
      "\n",
      "*********************\n",
      "\n",
      "<class 'pandas.core.frame.DataFrame'>\n",
      "Int64Index: 4128 entries, 20046 to 3665\n",
      "Data columns (total 9 columns):\n",
      "longitude           4128 non-null float64\n",
      "latitude            4128 non-null float64\n",
      "housingMedianAge    4128 non-null float64\n",
      "totalRooms          4128 non-null float64\n",
      "totalBedrooms       4128 non-null float64\n",
      "population          4128 non-null float64\n",
      "households          4128 non-null float64\n",
      "medianIncome        4128 non-null float64\n",
      "medianHouseValue    4128 non-null float64\n",
      "dtypes: float64(9)\n",
      "memory usage: 322.5 KB\n",
      "None\n"
     ]
    }
   ],
   "source": [
    "print(trainSet.info())\n",
    "print()\n",
    "print('*********************')\n",
    "print()\n",
    "print(testSet.info())"
   ]
  },
  {
   "cell_type": "code",
   "execution_count": 49,
   "metadata": {},
   "outputs": [],
   "source": [
    "corr_matrix = cal_housing.corr()"
   ]
  },
  {
   "cell_type": "code",
   "execution_count": 52,
   "metadata": {},
   "outputs": [
    {
     "data": {
      "text/plain": [
       "medianHouseValue    1.000000\n",
       "medianIncome        0.688075\n",
       "totalRooms          0.134153\n",
       "housingMedianAge    0.105623\n",
       "households          0.065843\n",
       "totalBedrooms       0.050594\n",
       "population         -0.024650\n",
       "longitude          -0.045967\n",
       "id                 -0.046166\n",
       "latitude           -0.144160\n",
       "Name: medianHouseValue, dtype: float64"
      ]
     },
     "execution_count": 52,
     "metadata": {},
     "output_type": "execute_result"
    }
   ],
   "source": [
    "corr_matrix['medianHouseValue'].sort_values(ascending=False)"
   ]
  }
 ],
 "metadata": {
  "kernelspec": {
   "display_name": "Python (myml)",
   "language": "python",
   "name": "myml"
  },
  "language_info": {
   "codemirror_mode": {
    "name": "ipython",
    "version": 3
   },
   "file_extension": ".py",
   "mimetype": "text/x-python",
   "name": "python",
   "nbconvert_exporter": "python",
   "pygments_lexer": "ipython3",
   "version": "3.5.3"
  }
 },
 "nbformat": 4,
 "nbformat_minor": 2
}
